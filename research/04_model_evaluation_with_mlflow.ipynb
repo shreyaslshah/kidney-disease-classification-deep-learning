{
 "cells": [
  {
   "cell_type": "code",
   "execution_count": 1,
   "metadata": {},
   "outputs": [
    {
     "data": {
      "text/plain": [
       "'/Users/shreyasshah/Desktop/kidney-disease-classification-deep-learning'"
      ]
     },
     "execution_count": 1,
     "metadata": {},
     "output_type": "execute_result"
    }
   ],
   "source": [
    "import os\n",
    "os.chdir(\"../\")\n",
    "%pwd"
   ]
  },
  {
   "cell_type": "code",
   "execution_count": 2,
   "metadata": {},
   "outputs": [],
   "source": [
    "os.environ['MLFLOW_TRACKING_URI'] = 'https://dagshub.com/shreyaslshah/kidney-disease-classification-deep-learning.mlflow'\n",
    "os.environ['MLFLOW_TRACKING_USERNAME'] = 'shreyaslshah'\n",
    "os.environ['MLFLOW_TRACKING_PASSWORD'] = '69ef1e71d0aed23f6e43066ca3e0337adf8b3172'"
   ]
  },
  {
   "cell_type": "code",
   "execution_count": 3,
   "metadata": {},
   "outputs": [
    {
     "name": "stderr",
     "output_type": "stream",
     "text": [
      "/Users/shreyasshah/Desktop/kidney-disease-classification-deep-learning/venv/lib/python3.9/site-packages/urllib3/__init__.py:35: NotOpenSSLWarning: urllib3 v2 only supports OpenSSL 1.1.1+, currently the 'ssl' module is compiled with 'LibreSSL 2.8.3'. See: https://github.com/urllib3/urllib3/issues/3020\n",
      "  warnings.warn(\n"
     ]
    }
   ],
   "source": [
    "import tensorflow as tf"
   ]
  },
  {
   "cell_type": "code",
   "execution_count": 4,
   "metadata": {},
   "outputs": [],
   "source": [
    "model = tf.keras.models.load_model('artifacts/training/model.h5')"
   ]
  },
  {
   "cell_type": "code",
   "execution_count": 5,
   "metadata": {},
   "outputs": [],
   "source": [
    "from dataclasses import dataclass\n",
    "from pathlib import Path\n",
    "\n",
    "@dataclass(frozen=True)\n",
    "class EvaluationConfig:\n",
    "  path_of_model: Path\n",
    "  training_data: Path\n",
    "  all_params: dict\n",
    "  mlflow_uri: str\n",
    "  params_image_size: list\n",
    "  params_batch_size: int"
   ]
  },
  {
   "cell_type": "code",
   "execution_count": 6,
   "metadata": {},
   "outputs": [],
   "source": [
    "from cnnClassifier.constants import *\n",
    "from cnnClassifier.utils.common import read_yaml, create_directories, save_json"
   ]
  },
  {
   "cell_type": "code",
   "execution_count": 7,
   "metadata": {},
   "outputs": [],
   "source": [
    "class ConfigurationManager:\n",
    "  def __init__(\n",
    "          self,\n",
    "          config_filepath=CONFIG_FILE_PATH,\n",
    "          params_filepath=PARAMS_FILE_PATH):\n",
    "    self.config = read_yaml(config_filepath)\n",
    "    self.params = read_yaml(params_filepath)\n",
    "    create_directories([self.config.artifacts_root])\n",
    "\n",
    "  def get_evaluation_config(self) -> EvaluationConfig:\n",
    "    eval_config = EvaluationConfig(\n",
    "        path_of_model=\"artifacts/training/model.h5\",\n",
    "        training_data=\"artifacts/data_ingestion/kidney-ct-scan-image\",\n",
    "        mlflow_uri=\"https://dagshub.com/shreyaslshah/kidney-disease-classification-deep-learning.mlflow\",\n",
    "        all_params=self.params,\n",
    "        params_image_size=self.params.IMAGE_SIZE,\n",
    "        params_batch_size=self.params.BATCH_SIZE\n",
    "    )\n",
    "    return eval_config"
   ]
  },
  {
   "cell_type": "code",
   "execution_count": 8,
   "metadata": {},
   "outputs": [],
   "source": [
    "from pathlib import Path\n",
    "import mlflow\n",
    "import mlflow.keras\n",
    "from urllib.parse import urlparse"
   ]
  },
  {
   "cell_type": "code",
   "execution_count": 13,
   "metadata": {},
   "outputs": [],
   "source": [
    "class Evaluation:\n",
    "  def __init__(self, config: EvaluationConfig):\n",
    "    self.config = config\n",
    "\n",
    "  def _valid_generator(self):\n",
    "\n",
    "    datagenerator_kwargs = dict(\n",
    "        rescale=1./255,\n",
    "        validation_split=0.0\n",
    "    )\n",
    "\n",
    "    dataflow_kwargs = dict(\n",
    "        target_size=self.config.params_image_size[:-1],\n",
    "        batch_size=self.config.params_batch_size,\n",
    "        interpolation=\"bilinear\"\n",
    "    )\n",
    "\n",
    "    valid_datagenerator = tf.keras.preprocessing.image.ImageDataGenerator(\n",
    "        **datagenerator_kwargs\n",
    "    )\n",
    "\n",
    "    # use the remaining training data (which is the entire dataset) for evaluation\n",
    "    self.valid_generator = valid_datagenerator.flow_from_directory(\n",
    "        directory=self.config.training_data,\n",
    "        # subset=\"validation\",\n",
    "        shuffle=False,\n",
    "        **dataflow_kwargs\n",
    "    )\n",
    "\n",
    "  @staticmethod\n",
    "  def load_model(path: Path) -> tf.keras.Model:\n",
    "    return tf.keras.models.load_model(path)\n",
    "\n",
    "  def evaluation(self):\n",
    "    self.model = self.load_model(self.config.path_of_model)\n",
    "    self._valid_generator()\n",
    "    self.score = model.evaluate(self.valid_generator)\n",
    "    self.save_score()\n",
    "\n",
    "  def save_score(self):\n",
    "    scores = {\"loss\": self.score[0], \"accuracy\": self.score[1]}\n",
    "    save_json(path=Path(\"scores.json\"), data=scores)\n",
    "\n",
    "  def log_into_mlflow(self):\n",
    "    mlflow.set_registry_uri(self.config.mlflow_uri)\n",
    "    tracking_url_type_store = urlparse(mlflow.get_tracking_uri()).scheme\n",
    "\n",
    "    with mlflow.start_run():\n",
    "      mlflow.log_params(self.config.all_params)\n",
    "      mlflow.log_metrics(\n",
    "          {\"loss\": self.score[0], \"accuracy\": self.score[1]}\n",
    "      )\n",
    "      # Model registry does not work with file store\n",
    "      if tracking_url_type_store != \"file\":\n",
    "        mlflow.keras.log_model(\n",
    "            self.model, \"model\", registered_model_name=\"VGG16Model\")\n",
    "      else:\n",
    "        mlflow.keras.log_model(self.model, \"model\")"
   ]
  },
  {
   "cell_type": "code",
   "execution_count": 14,
   "metadata": {},
   "outputs": [
    {
     "name": "stdout",
     "output_type": "stream",
     "text": [
      "[2024-05-04 16:39:55,960: INFO: common: yaml file: config/config.yaml loaded successfully]\n",
      "[2024-05-04 16:39:55,963: INFO: common: yaml file: params.yaml loaded successfully]\n",
      "[2024-05-04 16:39:55,963: INFO: common: created directory at artifacts]\n",
      "Found 465 images belonging to 2 classes.\n"
     ]
    },
    {
     "name": "stderr",
     "output_type": "stream",
     "text": [
      "2024-05-04 16:39:56.382721: W tensorflow/tsl/platform/profile_utils/cpu_utils.cc:128] Failed to get CPU frequency: 0 Hz\n"
     ]
    },
    {
     "name": "stdout",
     "output_type": "stream",
     "text": [
      "30/30 [==============================] - 16s 518ms/step - loss: 0.2619 - accuracy: 0.9376\n",
      "[2024-05-04 16:40:12,563: INFO: common: json file saved at: scores.json]\n"
     ]
    },
    {
     "name": "stderr",
     "output_type": "stream",
     "text": [
      "2024/05/04 16:40:14 WARNING mlflow.tensorflow: You are saving a TensorFlow Core model or Keras model without a signature. Inference with mlflow.pyfunc.spark_udf() will not work unless the model's pyfunc representation accepts pandas DataFrames as inference inputs.\n"
     ]
    },
    {
     "name": "stdout",
     "output_type": "stream",
     "text": [
      "[2024-05-04 16:40:15,017: WARNING: save: Found untraced functions such as _jit_compiled_convolution_op, _jit_compiled_convolution_op, _jit_compiled_convolution_op, _jit_compiled_convolution_op, _jit_compiled_convolution_op while saving (showing 5 of 13). These functions will not be directly callable after loading.]\n",
      "INFO:tensorflow:Assets written to: /var/folders/7g/xvz8wfd9477_ywln21gwjvdr0000gn/T/tmpipiikmgg/model/data/model/assets\n",
      "[2024-05-04 16:40:15,522: INFO: builder_impl: Assets written to: /var/folders/7g/xvz8wfd9477_ywln21gwjvdr0000gn/T/tmpipiikmgg/model/data/model/assets]\n"
     ]
    },
    {
     "name": "stderr",
     "output_type": "stream",
     "text": [
      "Registered model 'VGG16Model' already exists. Creating a new version of this model...\n",
      "2024/05/04 16:40:51 INFO mlflow.tracking._model_registry.client: Waiting up to 300 seconds for model version to finish creation.                     Model name: VGG16Model, version 7\n",
      "Created version '7' of model 'VGG16Model'.\n"
     ]
    }
   ],
   "source": [
    "try:\n",
    "  config = ConfigurationManager()\n",
    "  eval_config = config.get_evaluation_config()\n",
    "  evaluation = Evaluation(eval_config)\n",
    "  evaluation.evaluation()\n",
    "  evaluation.log_into_mlflow()\n",
    "\n",
    "except Exception as e:\n",
    "  raise e"
   ]
  },
  {
   "cell_type": "code",
   "execution_count": null,
   "metadata": {},
   "outputs": [],
   "source": []
  }
 ],
 "metadata": {
  "kernelspec": {
   "display_name": "venv",
   "language": "python",
   "name": "python3"
  },
  "language_info": {
   "codemirror_mode": {
    "name": "ipython",
    "version": 3
   },
   "file_extension": ".py",
   "mimetype": "text/x-python",
   "name": "python",
   "nbconvert_exporter": "python",
   "pygments_lexer": "ipython3",
   "version": "3.9.6"
  }
 },
 "nbformat": 4,
 "nbformat_minor": 2
}
