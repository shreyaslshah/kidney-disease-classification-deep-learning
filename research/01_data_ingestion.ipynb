{
 "cells": [
  {
   "cell_type": "code",
   "execution_count": 1,
   "metadata": {},
   "outputs": [],
   "source": [
    "import os"
   ]
  },
  {
   "cell_type": "code",
   "execution_count": 2,
   "metadata": {},
   "outputs": [
    {
     "data": {
      "text/plain": [
       "'/Users/shreyasshah/Desktop/kidney-disease-classification-deep-learning/research'"
      ]
     },
     "execution_count": 2,
     "metadata": {},
     "output_type": "execute_result"
    }
   ],
   "source": [
    "%pwd"
   ]
  },
  {
   "cell_type": "code",
   "execution_count": 3,
   "metadata": {},
   "outputs": [],
   "source": [
    "os.chdir('../')"
   ]
  },
  {
   "cell_type": "code",
   "execution_count": 4,
   "metadata": {},
   "outputs": [
    {
     "data": {
      "text/plain": [
       "'/Users/shreyasshah/Desktop/kidney-disease-classification-deep-learning'"
      ]
     },
     "execution_count": 4,
     "metadata": {},
     "output_type": "execute_result"
    }
   ],
   "source": [
    "%pwd"
   ]
  },
  {
   "cell_type": "code",
   "execution_count": 5,
   "metadata": {},
   "outputs": [],
   "source": [
    "from dataclasses import dataclass\n",
    "from pathlib import Path"
   ]
  },
  {
   "cell_type": "code",
   "execution_count": 6,
   "metadata": {},
   "outputs": [],
   "source": [
    "@dataclass(frozen=True)\n",
    "class DataIngestionConfig:\n",
    "  root_dir: Path\n",
    "  source_URL: str\n",
    "  local_data_file: Path\n",
    "  unzip_dir: Path"
   ]
  },
  {
   "cell_type": "code",
   "execution_count": 7,
   "metadata": {},
   "outputs": [],
   "source": [
    "from cnnClassifier.constants import *\n",
    "from cnnClassifier.utils.common import read_yaml, create_directories"
   ]
  },
  {
   "cell_type": "code",
   "execution_count": 8,
   "metadata": {},
   "outputs": [],
   "source": [
    "class ConfigurationManager:\n",
    "  def __init__(self, config_filepath=CONFIG_FILE_PATH,\n",
    "               params_filepath=PARAMS_FILE_PATH) -> None:\n",
    "    self.config = read_yaml(config_filepath)\n",
    "    self.params = read_yaml(params_filepath)\n",
    "    create_directories([self.config.artifacts_root])\n",
    "\n",
    "  def get_data_ingestion_config(self) -> DataIngestionConfig:\n",
    "    config = self.config.data_ingestion\n",
    "    create_directories([config.root_dir])\n",
    "    data_ingestion_config = DataIngestionConfig(\n",
    "        root_dir=config.root_dir, source_URL=config.source_URL, local_data_file=config.local_data_file, unzip_dir=config.unzip_dir)\n",
    "    return data_ingestion_config"
   ]
  },
  {
   "cell_type": "code",
   "execution_count": 9,
   "metadata": {},
   "outputs": [
    {
     "name": "stderr",
     "output_type": "stream",
     "text": [
      "/Users/shreyasshah/Desktop/kidney-disease-classification-deep-learning/venv/lib/python3.9/site-packages/urllib3/__init__.py:35: NotOpenSSLWarning: urllib3 v2 only supports OpenSSL 1.1.1+, currently the 'ssl' module is compiled with 'LibreSSL 2.8.3'. See: https://github.com/urllib3/urllib3/issues/3020\n",
      "  warnings.warn(\n"
     ]
    }
   ],
   "source": [
    "import os, zipfile, gdown\n",
    "from cnnClassifier import logger\n",
    "from cnnClassifier.utils.common import get_size"
   ]
  },
  {
   "cell_type": "code",
   "execution_count": 10,
   "metadata": {},
   "outputs": [],
   "source": [
    "class DataIngestion:\n",
    "  def __init__(self, config: DataIngestionConfig):\n",
    "    self.config = config\n",
    "\n",
    "  def download_file(self) -> str:\n",
    "    '''\n",
    "    Fetch data from the url\n",
    "    '''\n",
    "\n",
    "    try:\n",
    "      dataset_url = self.config.source_URL\n",
    "      zip_download_dir = self.config.local_data_file\n",
    "      os.makedirs(\"artifacts/data_ingestion\", exist_ok=True)\n",
    "      logger.info(\n",
    "          f\"Downloading data from {dataset_url} into file {zip_download_dir}\")\n",
    "\n",
    "      file_id = dataset_url.split(\"/\")[-2]\n",
    "      prefix = 'https://drive.google.com/uc?/export=download&id='\n",
    "      gdown.download(prefix+file_id, zip_download_dir)\n",
    "\n",
    "      logger.info(\n",
    "          f\"Downloaded data from {dataset_url} into file {zip_download_dir}\")\n",
    "\n",
    "    except Exception as e:\n",
    "      raise e\n",
    "\n",
    "  def extract_zip_file(self):\n",
    "    \"\"\"\n",
    "    zip_file_path: str\n",
    "    Extracts the zip file into the data directory\n",
    "    Function returns None\n",
    "    \"\"\"\n",
    "    unzip_path = self.config.unzip_dir\n",
    "    os.makedirs(unzip_path, exist_ok=True)\n",
    "    with zipfile.ZipFile(self.config.local_data_file, 'r') as zip_ref:\n",
    "      zip_ref.extractall(unzip_path)"
   ]
  },
  {
   "cell_type": "code",
   "execution_count": 11,
   "metadata": {},
   "outputs": [
    {
     "name": "stdout",
     "output_type": "stream",
     "text": [
      "[2024-04-18 18:39:08,986: INFO: common: yaml file: config/config.yaml loaded successfully]\n",
      "[2024-04-18 18:39:08,988: INFO: common: yaml file: params.yaml loaded successfully]\n",
      "[2024-04-18 18:39:08,989: INFO: common: created directory at artifacts]\n",
      "[2024-04-18 18:39:08,991: INFO: common: created directory at artifacts/data_ingestion]\n",
      "[2024-04-18 18:39:08,992: INFO: 2646887694: Downloading data from https://drive.google.com/file/d/1qlKHoCcecTkCSpDuKD24NiSr9PJhjXSh/view?usp=sharing into file artifacts/data_ingestion/data.zip]\n"
     ]
    },
    {
     "name": "stderr",
     "output_type": "stream",
     "text": [
      "Downloading...\n",
      "From (original): https://drive.google.com/uc?/export=download&id=1qlKHoCcecTkCSpDuKD24NiSr9PJhjXSh\n",
      "From (redirected): https://drive.google.com/uc?%2Fexport=download&id=1qlKHoCcecTkCSpDuKD24NiSr9PJhjXSh&confirm=t&uuid=53ce90ef-7766-429b-b2ae-c493044287a7\n",
      "To: /Users/shreyasshah/Desktop/kidney-disease-classification-deep-learning/artifacts/data_ingestion/data.zip\n",
      "100%|██████████| 57.7M/57.7M [00:44<00:00, 1.28MB/s]"
     ]
    },
    {
     "name": "stdout",
     "output_type": "stream",
     "text": [
      "[2024-04-18 18:40:10,286: INFO: 2646887694: Downloaded data from https://drive.google.com/file/d/1qlKHoCcecTkCSpDuKD24NiSr9PJhjXSh/view?usp=sharing into file artifacts/data_ingestion/data.zip]\n"
     ]
    },
    {
     "name": "stderr",
     "output_type": "stream",
     "text": [
      "\n"
     ]
    }
   ],
   "source": [
    "try:\n",
    "  config = ConfigurationManager()\n",
    "  data_ingestion_config = config.get_data_ingestion_config()\n",
    "  data_ingestion = DataIngestion(config=data_ingestion_config)\n",
    "  data_ingestion.download_file()\n",
    "  data_ingestion.extract_zip_file()\n",
    "except Exception as e:\n",
    "  raise e"
   ]
  },
  {
   "cell_type": "code",
   "execution_count": null,
   "metadata": {},
   "outputs": [],
   "source": []
  }
 ],
 "metadata": {
  "kernelspec": {
   "display_name": "venv",
   "language": "python",
   "name": "python3"
  },
  "language_info": {
   "codemirror_mode": {
    "name": "ipython",
    "version": 3
   },
   "file_extension": ".py",
   "mimetype": "text/x-python",
   "name": "python",
   "nbconvert_exporter": "python",
   "pygments_lexer": "ipython3",
   "version": "3.9.6"
  }
 },
 "nbformat": 4,
 "nbformat_minor": 2
}
