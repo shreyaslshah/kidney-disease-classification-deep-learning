{
 "cells": [
  {
   "cell_type": "markdown",
   "metadata": {},
   "source": [
    "# import data from google drive"
   ]
  },
  {
   "cell_type": "code",
   "execution_count": 5,
   "metadata": {},
   "outputs": [],
   "source": [
    "import gdown\n",
    "\n",
    "url = 'https://drive.google.com/file/d/1qlKHoCcecTkCSpDuKD24NiSr9PJhjXSh/view?usp=sharing'\n",
    "file_id = url.split('/')[-2]"
   ]
  },
  {
   "cell_type": "code",
   "execution_count": 6,
   "metadata": {},
   "outputs": [
    {
     "name": "stderr",
     "output_type": "stream",
     "text": [
      "Downloading...\n",
      "From (original): https://drive.google.com/uc?id=1qlKHoCcecTkCSpDuKD24NiSr9PJhjXSh\n",
      "From (redirected): https://drive.google.com/uc?id=1qlKHoCcecTkCSpDuKD24NiSr9PJhjXSh&confirm=t&uuid=b02b1c61-c849-416c-b22a-f2fe73813d19\n",
      "To: /Users/shreyasshah/Desktop/kidney-disease-classification-deep-learning/research/data.zip\n",
      "100%|██████████| 57.7M/57.7M [00:15<00:00, 3.78MB/s]\n"
     ]
    },
    {
     "data": {
      "text/plain": [
       "'data.zip'"
      ]
     },
     "execution_count": 6,
     "metadata": {},
     "output_type": "execute_result"
    }
   ],
   "source": [
    "prefix = 'https://drive.google.com/uc?id='\n",
    "output = 'data.zip'\n",
    "gdown.download(prefix+file_id, output)"
   ]
  },
  {
   "cell_type": "code",
   "execution_count": null,
   "metadata": {},
   "outputs": [],
   "source": []
  }
 ],
 "metadata": {
  "kernelspec": {
   "display_name": "venv",
   "language": "python",
   "name": "python3"
  },
  "language_info": {
   "codemirror_mode": {
    "name": "ipython",
    "version": 3
   },
   "file_extension": ".py",
   "mimetype": "text/x-python",
   "name": "python",
   "nbconvert_exporter": "python",
   "pygments_lexer": "ipython3",
   "version": "3.9.6"
  }
 },
 "nbformat": 4,
 "nbformat_minor": 2
}
